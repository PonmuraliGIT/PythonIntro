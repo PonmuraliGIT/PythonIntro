{
 "cells": [
  {
   "cell_type": "code",
   "execution_count": 1,
   "id": "984f0f3a",
   "metadata": {},
   "outputs": [
    {
     "name": "stdout",
     "output_type": "stream",
     "text": [
      "This is my first class\n"
     ]
    }
   ],
   "source": [
    "print(\"This is my first class\")"
   ]
  },
  {
   "cell_type": "markdown",
   "id": "5a649421",
   "metadata": {},
   "source": [
    "# PYTHON INTRODUCTION"
   ]
  },
  {
   "cell_type": "markdown",
   "id": "6ebc20b4",
   "metadata": {},
   "source": [
    "## Python Print System"
   ]
  },
  {
   "cell_type": "code",
   "execution_count": null,
   "id": "6b8cf196",
   "metadata": {},
   "outputs": [],
   "source": []
  }
 ],
 "metadata": {
  "kernelspec": {
   "display_name": "Python 3",
   "language": "python",
   "name": "python3"
  },
  "language_info": {
   "codemirror_mode": {
    "name": "ipython",
    "version": 3
   },
   "file_extension": ".py",
   "mimetype": "text/x-python",
   "name": "python",
   "nbconvert_exporter": "python",
   "pygments_lexer": "ipython3",
   "version": "3.8.8"
  }
 },
 "nbformat": 4,
 "nbformat_minor": 5
}
